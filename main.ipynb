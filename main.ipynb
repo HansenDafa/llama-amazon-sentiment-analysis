{
 "cells": [
  {
   "cell_type": "code",
   "execution_count": 1,
   "id": "4bea3791",
   "metadata": {},
   "outputs": [
    {
     "name": "stdout",
     "output_type": "stream",
     "text": [
      "Sample data:\n",
      "                                                text  label\n",
      "0  So there is no way for me to plug it in here i...      0\n",
      "1                                          Good case      1\n",
      "2                             Great for the jawbone.      1\n",
      "3  Tied to charger for conversations lasting more...      0\n",
      "4                                  The mic is great.      1\n",
      "\n",
      "Label distribution:\n",
      "label\n",
      "0    499\n",
      "1    497\n",
      "Name: count, dtype: int64\n",
      "\n",
      "✅ Cleaned dataset saved as 'cleaned_amazon_sentiment.csv'\n"
     ]
    }
   ],
   "source": [
    "import pandas as pd\n",
    "\n",
    "# Load raw CSV (with inconsistent commas)\n",
    "df_raw = pd.read_csv(\"amazon_cells_labelled.csv\", header=None)\n",
    "\n",
    "# Function to extract label from any of the extra columns\n",
    "def extract_label(row):\n",
    "    for val in row[1:]:\n",
    "        if str(val).strip() in ['0', '1']:\n",
    "            return int(val)\n",
    "    return None\n",
    "\n",
    "# Step 1: Extract review text and label\n",
    "df_clean = pd.DataFrame()\n",
    "df_clean['text'] = df_raw[0]                      # first column is the review\n",
    "df_clean['label'] = df_raw.apply(extract_label, axis=1)\n",
    "\n",
    "# Step 2: Drop rows with missing labels\n",
    "df_clean = df_clean.dropna().reset_index(drop=True)\n",
    "df_clean['label'] = df_clean['label'].astype(int)\n",
    "\n",
    "# Step 3 (Optional): Check basic stats\n",
    "print(\"Sample data:\")\n",
    "print(df_clean.head())\n",
    "print(\"\\nLabel distribution:\")\n",
    "print(df_clean['label'].value_counts())\n",
    "\n",
    "# Step 4: Save cleaned dataset\n",
    "df_clean.to_csv(\"cleaned_amazon_sentiment.csv\", index=False)\n",
    "\n",
    "print(\"\\n✅ Cleaned dataset saved as 'cleaned_amazon_sentiment.csv'\")\n"
   ]
  },
  {
   "cell_type": "code",
   "execution_count": null,
   "id": "8861eed7",
   "metadata": {},
   "outputs": [],
   "source": []
  }
 ],
 "metadata": {
  "kernelspec": {
   "display_name": "venv",
   "language": "python",
   "name": "python3"
  },
  "language_info": {
   "codemirror_mode": {
    "name": "ipython",
    "version": 3
   },
   "file_extension": ".py",
   "mimetype": "text/x-python",
   "name": "python",
   "nbconvert_exporter": "python",
   "pygments_lexer": "ipython3",
   "version": "3.13.2"
  }
 },
 "nbformat": 4,
 "nbformat_minor": 5
}
