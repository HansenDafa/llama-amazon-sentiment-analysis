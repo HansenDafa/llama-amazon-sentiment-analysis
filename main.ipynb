{
 "cells": [
  {
   "cell_type": "code",
   "execution_count": 1,
   "id": "4bea3791",
   "metadata": {},
   "outputs": [
    {
     "name": "stdout",
     "output_type": "stream",
     "text": [
      "Sample data:\n",
      "                                                text  label\n",
      "0  So there is no way for me to plug it in here i...      0\n",
      "1                                          Good case      1\n",
      "2                             Great for the jawbone.      1\n",
      "3  Tied to charger for conversations lasting more...      0\n",
      "4                                  The mic is great.      1\n",
      "\n",
      "Label distribution:\n",
      "label\n",
      "0    499\n",
      "1    497\n",
      "Name: count, dtype: int64\n",
      "\n",
      "✅ Cleaned dataset saved as 'cleaned_amazon_sentiment.csv'\n"
     ]
    }
   ],
   "source": [
    "import pandas as pd\n",
    "\n",
    "# Load raw CSV (with inconsistent commas)\n",
    "df_raw = pd.read_csv(\"amazon_cells_labelled.csv\", header=None)\n",
    "\n",
    "# Function to extract label from any of the extra columns\n",
    "def extract_label(row):\n",
    "    for val in row[1:]:\n",
    "        if str(val).strip() in ['0', '1']:\n",
    "            return int(val)\n",
    "    return None\n",
    "\n",
    "# Step 1: Extract review text and label\n",
    "df_clean = pd.DataFrame()\n",
    "df_clean['text'] = df_raw[0]                      # first column is the review\n",
    "df_clean['label'] = df_raw.apply(extract_label, axis=1)\n",
    "\n",
    "# Step 2: Drop rows with missing labels\n",
    "df_clean = df_clean.dropna().reset_index(drop=True)\n",
    "df_clean['label'] = df_clean['label'].astype(int)\n",
    "\n",
    "# Step 3 (Optional): Check basic stats\n",
    "print(\"Sample data:\")\n",
    "print(df_clean.head())\n",
    "print(\"\\nLabel distribution:\")\n",
    "print(df_clean['label'].value_counts())\n",
    "\n",
    "# Step 4: Save cleaned dataset\n",
    "df_clean.to_csv(\"cleaned_amazon_sentiment.csv\", index=False)\n",
    "\n",
    "print(\"\\n✅ Cleaned dataset saved as 'cleaned_amazon_sentiment.csv'\")\n"
   ]
  },
  {
   "cell_type": "code",
   "execution_count": 2,
   "id": "8861eed7",
   "metadata": {},
   "outputs": [
    {
     "name": "stdout",
     "output_type": "stream",
     "text": [
      "Classification Report:\n",
      "              precision    recall  f1-score   support\n",
      "\n",
      "           0       0.76      0.87      0.81        92\n",
      "           1       0.87      0.77      0.82       108\n",
      "\n",
      "    accuracy                           0.81       200\n",
      "   macro avg       0.82      0.82      0.81       200\n",
      "weighted avg       0.82      0.81      0.82       200\n",
      "\n"
     ]
    },
    {
     "data": {
      "image/png": "[encoded data removed]",
      "text/plain": [
       "<Figure size 640x480 with 2 Axes>"
      ]
     },
     "metadata": {},
     "output_type": "display_data"
    }
   ],
   "source": [
    "import pandas as pd\n",
    "from sklearn.model_selection import train_test_split\n",
    "from sklearn.feature_extraction.text import TfidfVectorizer\n",
    "from sklearn.linear_model import LogisticRegression\n",
    "from sklearn.metrics import classification_report, confusion_matrix\n",
    "import seaborn as sns\n",
    "import matplotlib.pyplot as plt\n",
    "\n",
    "# Load cleaned dataset\n",
    "df = pd.read_csv(\"cleaned_amazon_sentiment.csv\")\n",
    "\n",
    "# Step 1: Train-test split\n",
    "X_train, X_test, y_train, y_test = train_test_split(\n",
    "    df[\"text\"], df[\"label\"], test_size=0.2, random_state=42\n",
    ")\n",
    "\n",
    "# Step 2: TF-IDF Vectorization\n",
    "tfidf = TfidfVectorizer(max_features=5000)\n",
    "X_train_vec = tfidf.fit_transform(X_train)\n",
    "X_test_vec = tfidf.transform(X_test)\n",
    "\n",
    "# Step 3: Train Logistic Regression\n",
    "clf = LogisticRegression()\n",
    "clf.fit(X_train_vec, y_train)\n",
    "\n",
    "# Step 4: Predictions and Evaluation\n",
    "y_pred = clf.predict(X_test_vec)\n",
    "\n",
    "print(\"Classification Report:\")\n",
    "print(classification_report(y_test, y_pred))\n",
    "\n",
    "# Confusion Matrix Plot\n",
    "cm = confusion_matrix(y_test, y_pred)\n",
    "sns.heatmap(cm, annot=True, fmt=\"d\", cmap=\"Blues\", xticklabels=[\"not good\", \"good\"], yticklabels=[\"not good\", \"good\"])\n",
    "plt.xlabel(\"Predicted\")\n",
    "plt.ylabel(\"Actual\")\n",
    "plt.title(\"Confusion Matrix\")\n",
    "plt.show()\n"
   ]
  },
  {
   "cell_type": "code",
   "execution_count": 5,
   "id": "2ad44741",
   "metadata": {},
   "outputs": [
    {
     "name": "stdout",
     "output_type": "stream",
     "text": [
      "✅ Evaluation on 96 samples:\n",
      "              precision    recall  f1-score   support\n",
      "\n",
      "           0       1.00      0.79      0.88        43\n",
      "           1       0.85      1.00      0.92        53\n",
      "\n",
      "    accuracy                           0.91        96\n",
      "   macro avg       0.93      0.90      0.90        96\n",
      "weighted avg       0.92      0.91      0.90        96\n",
      "\n"
     ]
    }
   ],
   "source": [
    "import pandas as pd\n",
    "import requests\n",
    "import json\n",
    "from sklearn.metrics import classification_report\n",
    "\n",
    "# Load cleaned dataset\n",
    "df = pd.read_csv(\"cleaned_amazon_sentiment.csv\")\n",
    "\n",
    "# Reduce to 50 examples for speed (optional)\n",
    "df_sample = df.sample(n=100, random_state=42).reset_index(drop=True)\n",
    "\n",
    "# Function to query Ollama\n",
    "def query_ollama(prompt, model=\"llama2\"):\n",
    "    url = \"http://localhost:11434/api/generate\"\n",
    "    payload = {\n",
    "        \"model\": model,\n",
    "        \"prompt\": prompt,\n",
    "        \"stream\": False\n",
    "    }\n",
    "    response = requests.post(url, data=json.dumps(payload))\n",
    "    result = response.json()\n",
    "    return result[\"response\"].strip().lower()\n",
    "\n",
    "# Predict using LLaMA\n",
    "llama_preds = []\n",
    "for text in df_sample[\"text\"]:\n",
    "    prompt = f'Classify the sentiment as \"good\" or \"not good\": \"{text}\"'\n",
    "    result = query_ollama(prompt)\n",
    "    if \"not good\" in result:\n",
    "        llama_preds.append(0)\n",
    "    elif \"good\" in result:\n",
    "        llama_preds.append(1)\n",
    "    else:\n",
    "        llama_preds.append(-1)  # unknown or unclear\n",
    "\n",
    "# Remove unclear predictions\n",
    "df_sample[\"llama_pred\"] = llama_preds\n",
    "df_eval = df_sample[df_sample[\"llama_pred\"] != -1]\n",
    "\n",
    "# Evaluation\n",
    "print(\"✅ Evaluation on\", len(df_eval), \"samples:\")\n",
    "print(classification_report(df_eval[\"label\"], df_eval[\"llama_pred\"]))\n"
   ]
  }
 ],
 "metadata": {
  "kernelspec": {
   "display_name": "venv",
   "language": "python",
   "name": "python3"
  },
  "language_info": {
   "codemirror_mode": {
    "name": "ipython",
    "version": 3
   },
   "file_extension": ".py",
   "mimetype": "text/x-python",
   "name": "python",
   "nbconvert_exporter": "python",
   "pygments_lexer": "ipython3",
   "version": "3.13.2"
  }
 },
 "nbformat": 4,
 "nbformat_minor": 5
}
